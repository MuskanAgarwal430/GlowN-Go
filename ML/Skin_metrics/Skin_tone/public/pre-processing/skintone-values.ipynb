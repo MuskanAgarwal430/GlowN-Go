{
 "cells": [
  {
   "cell_type": "code",
   "execution_count": 1,
   "metadata": {},
   "outputs": [],
   "source": [
    "\"\"\"\n",
    "To generate skin color tone csv for skin tone classification\n",
    "\"\"\"\n",
    "import cv2\n",
    "import numpy as np\n",
    "import pandas as pd\n",
    "import os\n"
   ]
  },
  {
   "cell_type": "code",
   "execution_count": 2,
   "metadata": {},
   "outputs": [
    {
     "ename": "FileNotFoundError",
     "evalue": "[WinError 3] The system cannot find the path specified: 'D:\\\\Mynthra-hack\\\\skintone\\\\simple-skin-detection\\\\ML\\\\Skin metrics\\\\Skin tone\\\\public\\\\skin tone values'",
     "output_type": "error",
     "traceback": [
      "\u001b[1;31m---------------------------------------------------------------------------\u001b[0m",
      "\u001b[1;31mFileNotFoundError\u001b[0m                         Traceback (most recent call last)",
      "Cell \u001b[1;32mIn[2], line 3\u001b[0m\n\u001b[0;32m      1\u001b[0m folder \u001b[38;5;241m=\u001b[39m \u001b[38;5;124m\"\u001b[39m\u001b[38;5;124mD:\u001b[39m\u001b[38;5;124m\\\u001b[39m\u001b[38;5;124mMynthra-hack\u001b[39m\u001b[38;5;124m\\\u001b[39m\u001b[38;5;124mskintone\u001b[39m\u001b[38;5;124m\\\u001b[39m\u001b[38;5;124msimple-skin-detection\u001b[39m\u001b[38;5;124m\\\u001b[39m\u001b[38;5;124mML\u001b[39m\u001b[38;5;124m\\\u001b[39m\u001b[38;5;124mSkin metrics\u001b[39m\u001b[38;5;124m\\\u001b[39m\u001b[38;5;124mSkin tone\u001b[39m\u001b[38;5;124m\\\u001b[39m\u001b[38;5;124mpublic\u001b[39m\u001b[38;5;124m\\\u001b[39m\u001b[38;5;124mskin tone values\u001b[39m\u001b[38;5;124m\"\u001b[39m\n\u001b[0;32m      2\u001b[0m df \u001b[38;5;241m=\u001b[39m pd\u001b[38;5;241m.\u001b[39mDataFrame()\n\u001b[1;32m----> 3\u001b[0m \u001b[38;5;28;01mfor\u001b[39;00m subfolder \u001b[38;5;129;01min\u001b[39;00m \u001b[43mos\u001b[49m\u001b[38;5;241;43m.\u001b[39;49m\u001b[43mlistdir\u001b[49m\u001b[43m(\u001b[49m\u001b[43mfolder\u001b[49m\u001b[43m)\u001b[49m:\n\u001b[0;32m      4\u001b[0m     \u001b[38;5;28;01mfor\u001b[39;00m filename \u001b[38;5;129;01min\u001b[39;00m os\u001b[38;5;241m.\u001b[39mlistdir(os\u001b[38;5;241m.\u001b[39mpath\u001b[38;5;241m.\u001b[39mjoin(folder, subfolder)):\n\u001b[0;32m      5\u001b[0m         img \u001b[38;5;241m=\u001b[39m cv2\u001b[38;5;241m.\u001b[39mimread(os\u001b[38;5;241m.\u001b[39mpath\u001b[38;5;241m.\u001b[39mjoin(folder, subfolder, filename))\n",
      "\u001b[1;31mFileNotFoundError\u001b[0m: [WinError 3] The system cannot find the path specified: 'D:\\\\Mynthra-hack\\\\skintone\\\\simple-skin-detection\\\\ML\\\\Skin metrics\\\\Skin tone\\\\public\\\\skin tone values'"
     ]
    }
   ],
   "source": [
    "folder = \"D:\\Mynthra-hack\\skintone\\simple-skin-detection\\ML\\Skin metrics\\Skin tone\\public\\skin tone values\"\n",
    "df = pd.DataFrame()\n",
    "for subfolder in os.listdir(folder):\n",
    "    for filename in os.listdir(os.path.join(folder, subfolder)):\n",
    "        img = cv2.imread(os.path.join(folder, subfolder, filename))\n",
    "        if img is not None:\n",
    "\n",
    "            # img_HSV = cv2.cvtColor(img, cv2.COLOR_BGR2HSV)\n",
    "            # img_YCrCb = cv2.cvtColor(img, cv2.COLOR_BGR2YCrCb)\n",
    "            # Cr = img_YCrCb.reshape([-1, 3])[:, 1]\n",
    "            # Cb = img_YCrCb.reshape([-1, 3])[:, 2]\n",
    "            # H = img_HSV.reshape([-1, 3])[:, 0]\n",
    "            # df = df.append(pd.DataFrame({\n",
    "            #     'Type': subfolder,\n",
    "            #     'H': H[H[:] == max(H[:])][0],\n",
    "            #     'Cr' : Cr[Cr[:] == max(Cr[:])][0],\n",
    "            #     'Cb' : Cb[Cb[:] == max(Cb[:])][0]\n",
    "            #     }, index=[0]), ignore_index = True)\n",
    "            B = img.reshape([-1, 3])[:, 0]\n",
    "            G = img.reshape([-1, 3])[:, 1]\n",
    "            R = img.reshape([-1, 3])[:, 2]\n",
    "            df = df.append(pd.DataFrame({\n",
    "                'Type': subfolder,\n",
    "                'R': R[R[:] == max(R[:])][0],\n",
    "                'G' : G[G[:] == max(G[:])][0],\n",
    "                'B' : B[B[:] == max(B[:])][0]\n",
    "                }, index=[0]), ignore_index = True)\n",
    "            \n",
    "df.to_csv('skin_tone_dataset.csv', index=False)\n"
   ]
  },
  {
   "cell_type": "code",
   "execution_count": 19,
   "metadata": {},
   "outputs": [
    {
     "name": "stdout",
     "output_type": "stream",
     "text": [
      "Type    18518.0\n",
      "R         249.0\n",
      "G         245.0\n",
      "B         236.0\n",
      "dtype: float64 Type    317460.0\n",
      "R          250.0\n",
      "G          245.0\n",
      "B          234.0\n",
      "dtype: float64 Type    476190.0\n",
      "R          240.0\n",
      "G          227.0\n",
      "B          171.0\n",
      "dtype: float64 Type    634921.0\n",
      "R          206.0\n",
      "G          172.0\n",
      "B          104.0\n",
      "dtype: float64 Type    793651.0\n",
      "R          105.0\n",
      "G           59.0\n",
      "B           41.0\n",
      "dtype: float64 Type    33.0\n",
      "R       33.0\n",
      "G       28.0\n",
      "B       40.0\n",
      "dtype: float64\n"
     ]
    }
   ],
   "source": [
    "tone1 = df.loc[df['Type'] == '1'].mean(axis=0)\n",
    "tone2 = df.loc[df['Type'] == '2'].mean(axis=0)\n",
    "tone3 = df.loc[df['Type'] == '3'].mean(axis=0)\n",
    "tone4 = df.loc[df['Type'] == '4'].mean(axis=0)\n",
    "tone5 = df.loc[df['Type'] == '5'].mean(axis=0)\n",
    "tone6 = df.loc[df['Type'] == '6'].mean(axis=0)\n",
    "\n",
    "print(round(tone1),\n",
    "      round(tone2),\n",
    "      round(tone3),\n",
    "      round(tone4),\n",
    "      round(tone5),\n",
    "      round(tone6))\n"
   ]
  }
 ],
 "metadata": {
  "interpreter": {
   "hash": "ba2f22f42967f045b6a8cdadb7a1806ca4d147626f8330f177f9e32090d93637"
  },
  "kernelspec": {
   "display_name": "Python 3 (ipykernel)",
   "language": "python",
   "name": "python3"
  },
  "language_info": {
   "codemirror_mode": {
    "name": "ipython",
    "version": 3
   },
   "file_extension": ".py",
   "mimetype": "text/x-python",
   "name": "python",
   "nbconvert_exporter": "python",
   "pygments_lexer": "ipython3",
   "version": "3.8.20"
  }
 },
 "nbformat": 4,
 "nbformat_minor": 4
}
